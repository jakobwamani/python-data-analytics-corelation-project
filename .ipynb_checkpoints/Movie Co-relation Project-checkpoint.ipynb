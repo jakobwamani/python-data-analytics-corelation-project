{
 "cells": [
  {
   "cell_type": "code",
   "execution_count": null,
   "id": "2c0cfbba",
   "metadata": {},
   "outputs": [],
   "source": [
    "import pandas as pd\n",
    "import numpy as np\n",
    "import seaborn as sns\n",
    "\n",
    "import matplotlib.pyplot as plt\n",
    "import matplotlib.mlab as mlab\n",
    "import matplotlib\n",
    "plt.style.use('ggplot')\n",
    "from matplotlib.pyplot import figure\n",
    "\n",
    "%matplotlib inline matplotlib.rcParams['figure.figsize'] = (12,8)\n",
    "\n",
    "pd.options.mode.chained_assignment = None\n",
    "\n",
    "#Now we need to read in the data\n",
    "df = pd.read_csv('/home/jay/code/Data_analytics_projects/Movies/movies.csv')"
   ]
  }
 ],
 "metadata": {
  "kernelspec": {
   "display_name": "Python 3 (ipykernel)",
   "language": "python",
   "name": "python3"
  },
  "language_info": {
   "codemirror_mode": {
    "name": "ipython",
    "version": 3
   },
   "file_extension": ".py",
   "mimetype": "text/x-python",
   "name": "python",
   "nbconvert_exporter": "python",
   "pygments_lexer": "ipython3",
   "version": "3.8.10"
  }
 },
 "nbformat": 4,
 "nbformat_minor": 5
}
